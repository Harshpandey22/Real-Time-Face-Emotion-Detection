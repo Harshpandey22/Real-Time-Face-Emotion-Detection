{
 "cells": [
  {
   "cell_type": "markdown",
   "id": "9c65eec8-5b91-441a-a65d-7002977f4a5b",
   "metadata": {},
   "source": [
    "### Importing the necessary Libraries"
   ]
  },
  {
   "cell_type": "code",
   "execution_count": 1,
   "id": "7aac7754-8e03-4d56-86e0-f49d404ef94a",
   "metadata": {},
   "outputs": [],
   "source": [
    "import numpy as np \n",
    "import pandas as pd\n",
    "import matplotlib.pyplot as plt\n",
    "import seaborn as sns"
   ]
  },
  {
   "cell_type": "markdown",
   "id": "bc6195bb-6689-44b9-84fd-db71a1bbc3c7",
   "metadata": {},
   "source": [
    "### Reading the Dataset"
   ]
  },
  {
   "cell_type": "code",
   "execution_count": 2,
   "id": "c833d396-fa1e-4dd2-8b56-19b43df6ecc5",
   "metadata": {},
   "outputs": [],
   "source": [
    "df = pd.read_csv(r\"C:\\Users\\harsh\\Desktop\\VIT Materials\\Foundation of DS (Project)\\EDA\\babyname2008.csv\")"
   ]
  },
  {
   "cell_type": "markdown",
   "id": "bb8d6d8a-4aeb-4a8f-ab85-17eb9f4be86d",
   "metadata": {},
   "source": [
    "### Displaying the First 5 Rows of the Dataset"
   ]
  },
  {
   "cell_type": "code",
   "execution_count": 3,
   "id": "fe909730-16d4-4019-a529-92e840d1cb0a",
   "metadata": {},
   "outputs": [
    {
     "data": {
      "text/html": [
       "<div>\n",
       "<style scoped>\n",
       "    .dataframe tbody tr th:only-of-type {\n",
       "        vertical-align: middle;\n",
       "    }\n",
       "\n",
       "    .dataframe tbody tr th {\n",
       "        vertical-align: top;\n",
       "    }\n",
       "\n",
       "    .dataframe thead th {\n",
       "        text-align: right;\n",
       "    }\n",
       "</style>\n",
       "<table border=\"1\" class=\"dataframe\">\n",
       "  <thead>\n",
       "    <tr style=\"text-align: right;\">\n",
       "      <th></th>\n",
       "      <th>year</th>\n",
       "      <th>name</th>\n",
       "      <th>percent</th>\n",
       "      <th>gender</th>\n",
       "    </tr>\n",
       "  </thead>\n",
       "  <tbody>\n",
       "    <tr>\n",
       "      <th>0</th>\n",
       "      <td>1880</td>\n",
       "      <td>John</td>\n",
       "      <td>0.081541</td>\n",
       "      <td>boy</td>\n",
       "    </tr>\n",
       "    <tr>\n",
       "      <th>1</th>\n",
       "      <td>1880</td>\n",
       "      <td>William</td>\n",
       "      <td>0.080511</td>\n",
       "      <td>boy</td>\n",
       "    </tr>\n",
       "    <tr>\n",
       "      <th>2</th>\n",
       "      <td>1880</td>\n",
       "      <td>James</td>\n",
       "      <td>0.050057</td>\n",
       "      <td>boy</td>\n",
       "    </tr>\n",
       "    <tr>\n",
       "      <th>3</th>\n",
       "      <td>1880</td>\n",
       "      <td>Charles</td>\n",
       "      <td>0.045167</td>\n",
       "      <td>boy</td>\n",
       "    </tr>\n",
       "    <tr>\n",
       "      <th>4</th>\n",
       "      <td>1880</td>\n",
       "      <td>George</td>\n",
       "      <td>0.043292</td>\n",
       "      <td>boy</td>\n",
       "    </tr>\n",
       "  </tbody>\n",
       "</table>\n",
       "</div>"
      ],
      "text/plain": [
       "   year     name   percent gender\n",
       "0  1880     John  0.081541    boy\n",
       "1  1880  William  0.080511    boy\n",
       "2  1880    James  0.050057    boy\n",
       "3  1880  Charles  0.045167    boy\n",
       "4  1880   George  0.043292    boy"
      ]
     },
     "execution_count": 3,
     "metadata": {},
     "output_type": "execute_result"
    }
   ],
   "source": [
    "df.head()"
   ]
  },
  {
   "cell_type": "markdown",
   "id": "4c550f61-7e4a-498a-93ab-ec53a6316eb1",
   "metadata": {},
   "source": [
    "### Displaying the Last 5 Rows of the Dataset"
   ]
  },
  {
   "cell_type": "code",
   "execution_count": 4,
   "id": "4aa9aafc-d0b2-4f31-8cba-8c2b57bdbd1b",
   "metadata": {},
   "outputs": [
    {
     "data": {
      "text/html": [
       "<div>\n",
       "<style scoped>\n",
       "    .dataframe tbody tr th:only-of-type {\n",
       "        vertical-align: middle;\n",
       "    }\n",
       "\n",
       "    .dataframe tbody tr th {\n",
       "        vertical-align: top;\n",
       "    }\n",
       "\n",
       "    .dataframe thead th {\n",
       "        text-align: right;\n",
       "    }\n",
       "</style>\n",
       "<table border=\"1\" class=\"dataframe\">\n",
       "  <thead>\n",
       "    <tr style=\"text-align: right;\">\n",
       "      <th></th>\n",
       "      <th>year</th>\n",
       "      <th>name</th>\n",
       "      <th>percent</th>\n",
       "      <th>gender</th>\n",
       "    </tr>\n",
       "  </thead>\n",
       "  <tbody>\n",
       "    <tr>\n",
       "      <th>257995</th>\n",
       "      <td>2008</td>\n",
       "      <td>Carleigh</td>\n",
       "      <td>0.000128</td>\n",
       "      <td>girl</td>\n",
       "    </tr>\n",
       "    <tr>\n",
       "      <th>257996</th>\n",
       "      <td>2008</td>\n",
       "      <td>Iyana</td>\n",
       "      <td>0.000128</td>\n",
       "      <td>girl</td>\n",
       "    </tr>\n",
       "    <tr>\n",
       "      <th>257997</th>\n",
       "      <td>2008</td>\n",
       "      <td>Kenley</td>\n",
       "      <td>0.000127</td>\n",
       "      <td>girl</td>\n",
       "    </tr>\n",
       "    <tr>\n",
       "      <th>257998</th>\n",
       "      <td>2008</td>\n",
       "      <td>Sloane</td>\n",
       "      <td>0.000127</td>\n",
       "      <td>girl</td>\n",
       "    </tr>\n",
       "    <tr>\n",
       "      <th>257999</th>\n",
       "      <td>2008</td>\n",
       "      <td>Elianna</td>\n",
       "      <td>0.000127</td>\n",
       "      <td>girl</td>\n",
       "    </tr>\n",
       "  </tbody>\n",
       "</table>\n",
       "</div>"
      ],
      "text/plain": [
       "        year      name   percent gender\n",
       "257995  2008  Carleigh  0.000128   girl\n",
       "257996  2008     Iyana  0.000128   girl\n",
       "257997  2008    Kenley  0.000127   girl\n",
       "257998  2008    Sloane  0.000127   girl\n",
       "257999  2008   Elianna  0.000127   girl"
      ]
     },
     "execution_count": 4,
     "metadata": {},
     "output_type": "execute_result"
    }
   ],
   "source": [
    "df.tail()"
   ]
  },
  {
   "cell_type": "markdown",
   "id": "8070af28-4e42-4403-bb97-c41037d3563e",
   "metadata": {},
   "source": [
    "### Gaining the Statistical insights from the Dataset"
   ]
  },
  {
   "cell_type": "code",
   "execution_count": 5,
   "id": "612809c5-a076-42e8-8e9f-07af67828ba2",
   "metadata": {},
   "outputs": [
    {
     "data": {
      "text/html": [
       "<div>\n",
       "<style scoped>\n",
       "    .dataframe tbody tr th:only-of-type {\n",
       "        vertical-align: middle;\n",
       "    }\n",
       "\n",
       "    .dataframe tbody tr th {\n",
       "        vertical-align: top;\n",
       "    }\n",
       "\n",
       "    .dataframe thead th {\n",
       "        text-align: right;\n",
       "    }\n",
       "</style>\n",
       "<table border=\"1\" class=\"dataframe\">\n",
       "  <thead>\n",
       "    <tr style=\"text-align: right;\">\n",
       "      <th></th>\n",
       "      <th>year</th>\n",
       "      <th>percent</th>\n",
       "    </tr>\n",
       "  </thead>\n",
       "  <tbody>\n",
       "    <tr>\n",
       "      <th>count</th>\n",
       "      <td>258000.000000</td>\n",
       "      <td>258000.000000</td>\n",
       "    </tr>\n",
       "    <tr>\n",
       "      <th>mean</th>\n",
       "      <td>1944.000000</td>\n",
       "      <td>0.000894</td>\n",
       "    </tr>\n",
       "    <tr>\n",
       "      <th>std</th>\n",
       "      <td>37.238046</td>\n",
       "      <td>0.003016</td>\n",
       "    </tr>\n",
       "    <tr>\n",
       "      <th>min</th>\n",
       "      <td>1880.000000</td>\n",
       "      <td>0.000026</td>\n",
       "    </tr>\n",
       "    <tr>\n",
       "      <th>25%</th>\n",
       "      <td>1912.000000</td>\n",
       "      <td>0.000081</td>\n",
       "    </tr>\n",
       "    <tr>\n",
       "      <th>50%</th>\n",
       "      <td>1944.000000</td>\n",
       "      <td>0.000164</td>\n",
       "    </tr>\n",
       "    <tr>\n",
       "      <th>75%</th>\n",
       "      <td>1976.000000</td>\n",
       "      <td>0.000507</td>\n",
       "    </tr>\n",
       "    <tr>\n",
       "      <th>max</th>\n",
       "      <td>2008.000000</td>\n",
       "      <td>0.081541</td>\n",
       "    </tr>\n",
       "  </tbody>\n",
       "</table>\n",
       "</div>"
      ],
      "text/plain": [
       "                year        percent\n",
       "count  258000.000000  258000.000000\n",
       "mean     1944.000000       0.000894\n",
       "std        37.238046       0.003016\n",
       "min      1880.000000       0.000026\n",
       "25%      1912.000000       0.000081\n",
       "50%      1944.000000       0.000164\n",
       "75%      1976.000000       0.000507\n",
       "max      2008.000000       0.081541"
      ]
     },
     "execution_count": 5,
     "metadata": {},
     "output_type": "execute_result"
    }
   ],
   "source": [
    "df.describe()"
   ]
  },
  {
   "cell_type": "markdown",
   "id": "67c2cecc-b777-436b-84ea-edce335f198b",
   "metadata": {},
   "source": [
    "### Knowing numbers of Rows and Columns in Dataset"
   ]
  },
  {
   "cell_type": "code",
   "execution_count": 6,
   "id": "764913db-1073-445e-84e6-d4db415aba4c",
   "metadata": {},
   "outputs": [
    {
     "data": {
      "text/plain": [
       "(258000, 4)"
      ]
     },
     "execution_count": 6,
     "metadata": {},
     "output_type": "execute_result"
    }
   ],
   "source": [
    "df.shape"
   ]
  },
  {
   "cell_type": "markdown",
   "id": "b6db6646-60d8-4841-be38-87ea3e36dd56",
   "metadata": {},
   "source": [
    "### Gaining some Info of Dataset such as DataType of Columns, Non-Null, Count, etc"
   ]
  },
  {
   "cell_type": "code",
   "execution_count": 7,
   "id": "a867d5f5-0837-435d-86ff-84e2e422e383",
   "metadata": {
    "scrolled": true
   },
   "outputs": [
    {
     "name": "stdout",
     "output_type": "stream",
     "text": [
      "<class 'pandas.core.frame.DataFrame'>\n",
      "RangeIndex: 258000 entries, 0 to 257999\n",
      "Data columns (total 4 columns):\n",
      " #   Column   Non-Null Count   Dtype  \n",
      "---  ------   --------------   -----  \n",
      " 0   year     258000 non-null  int64  \n",
      " 1   name     258000 non-null  object \n",
      " 2   percent  258000 non-null  float64\n",
      " 3   gender   258000 non-null  object \n",
      "dtypes: float64(1), int64(1), object(2)\n",
      "memory usage: 7.9+ MB\n"
     ]
    }
   ],
   "source": [
    "df.info()"
   ]
  },
  {
   "cell_type": "markdown",
   "id": "d3c1e135-cfe9-4193-9b09-ff7bb711bbef",
   "metadata": {},
   "source": [
    "### Checking for Any Null Value present"
   ]
  },
  {
   "cell_type": "code",
   "execution_count": 8,
   "id": "8e6cd522-f67d-4856-87dd-6e62530ef20f",
   "metadata": {},
   "outputs": [
    {
     "data": {
      "text/plain": [
       "year       False\n",
       "name       False\n",
       "percent    False\n",
       "gender     False\n",
       "dtype: bool"
      ]
     },
     "execution_count": 8,
     "metadata": {},
     "output_type": "execute_result"
    }
   ],
   "source": [
    "df.isnull().any()"
   ]
  },
  {
   "cell_type": "code",
   "execution_count": 9,
   "id": "0715c71d-bbde-4f18-8df8-d090b5068fc6",
   "metadata": {},
   "outputs": [
    {
     "data": {
      "text/plain": [
       "year       0\n",
       "name       0\n",
       "percent    0\n",
       "gender     0\n",
       "dtype: int64"
      ]
     },
     "execution_count": 9,
     "metadata": {},
     "output_type": "execute_result"
    }
   ],
   "source": [
    "df.isnull().sum()"
   ]
  },
  {
   "cell_type": "markdown",
   "id": "642e198f-bdbd-47ce-8e27-5be49ab7e945",
   "metadata": {},
   "source": [
    "### Here there is no null value present but if any null value is present we can fix it using below code"
   ]
  },
  {
   "cell_type": "code",
   "execution_count": 10,
   "id": "08414e36-be30-4849-8da2-f36c36e45494",
   "metadata": {},
   "outputs": [],
   "source": [
    "# df.fillna(df.mean(numeric_only=True).round(1), inplace=True)\n",
    "# Here it we can use mean, median or mode, +or even drop the missing values row"
   ]
  },
  {
   "cell_type": "markdown",
   "id": "dea1a797-6566-42df-8d83-907d2b8cac1d",
   "metadata": {},
   "source": [
    "### Finding Coorelation"
   ]
  },
  {
   "cell_type": "code",
   "execution_count": 11,
   "id": "32992017-931d-4c00-80c7-2a15d7d2ddb3",
   "metadata": {},
   "outputs": [
    {
     "data": {
      "text/html": [
       "<div>\n",
       "<style scoped>\n",
       "    .dataframe tbody tr th:only-of-type {\n",
       "        vertical-align: middle;\n",
       "    }\n",
       "\n",
       "    .dataframe tbody tr th {\n",
       "        vertical-align: top;\n",
       "    }\n",
       "\n",
       "    .dataframe thead th {\n",
       "        text-align: right;\n",
       "    }\n",
       "</style>\n",
       "<table border=\"1\" class=\"dataframe\">\n",
       "  <thead>\n",
       "    <tr style=\"text-align: right;\">\n",
       "      <th></th>\n",
       "      <th>year</th>\n",
       "      <th>percent</th>\n",
       "    </tr>\n",
       "  </thead>\n",
       "  <tbody>\n",
       "    <tr>\n",
       "      <th>year</th>\n",
       "      <td>1.000000</td>\n",
       "      <td>-0.012628</td>\n",
       "    </tr>\n",
       "    <tr>\n",
       "      <th>percent</th>\n",
       "      <td>-0.012628</td>\n",
       "      <td>1.000000</td>\n",
       "    </tr>\n",
       "  </tbody>\n",
       "</table>\n",
       "</div>"
      ],
      "text/plain": [
       "             year   percent\n",
       "year     1.000000 -0.012628\n",
       "percent -0.012628  1.000000"
      ]
     },
     "execution_count": 11,
     "metadata": {},
     "output_type": "execute_result"
    }
   ],
   "source": [
    "numerical_cols = df.select_dtypes(include=['float64', 'int64']).columns\n",
    "\n",
    "corr_matrix = df[numerical_cols].corr()\n",
    "corr_matrix"
   ]
  },
  {
   "cell_type": "markdown",
   "id": "f5ee85ca-0c4b-4b2b-a6b3-a36603cee07f",
   "metadata": {},
   "source": [
    "### Coorelation HeatMap"
   ]
  },
  {
   "cell_type": "code",
   "execution_count": 12,
   "id": "1b6c8ec1-41ac-4020-a208-4001681c2f54",
   "metadata": {},
   "outputs": [
    {
     "data": {
      "image/png": "[encoded data removed]",
      "text/plain": [
       "<Figure size 800x600 with 2 Axes>"
      ]
     },
     "metadata": {},
     "output_type": "display_data"
    }
   ],
   "source": [
    "plt.figure(figsize=(8, 6))\n",
    "sns.heatmap(corr_matrix, annot=True, cmap='coolwarm', fmt=\".2f\")\n",
    "plt.title('Correlation Matrix')\n",
    "plt.show()"
   ]
  },
  {
   "cell_type": "markdown",
   "id": "949f1cf6-0cbc-4cf6-8168-dc0f5aa6fc31",
   "metadata": {},
   "source": [
    "### Checking for Outlier"
   ]
  },
  {
   "cell_type": "markdown",
   "id": "63e8282a-c39d-4ee5-ba99-87ce03a16760",
   "metadata": {},
   "source": [
    "#### Checking for column 'year'"
   ]
  },
  {
   "cell_type": "code",
   "execution_count": 13,
   "id": "4e243ab0-4fe6-47df-b798-9541defd0e18",
   "metadata": {},
   "outputs": [
    {
     "data": {
      "text/plain": [
       "<Axes: >"
      ]
     },
     "execution_count": 13,
     "metadata": {},
     "output_type": "execute_result"
    },
    {
     "data": {
      "image/png": "[encoded data removed]",
      "text/plain": [
       "<Figure size 640x480 with 1 Axes>"
      ]
     },
     "metadata": {},
     "output_type": "display_data"
    }
   ],
   "source": [
    "sns.boxplot(df['year'])"
   ]
  },
  {
   "cell_type": "markdown",
   "id": "9aee729c-1e62-4839-adad-f7776ec85cb2",
   "metadata": {},
   "source": [
    "#### Checking for column 'percent'"
   ]
  },
  {
   "cell_type": "code",
   "execution_count": 14,
   "id": "cb9e4d57-ce76-4ea3-8bc1-f4e4a1d14569",
   "metadata": {},
   "outputs": [
    {
     "data": {
      "text/plain": [
       "<Axes: >"
      ]
     },
     "execution_count": 14,
     "metadata": {},
     "output_type": "execute_result"
    },
    {
     "data": {
      "image/png": "[encoded data removed]",
      "text/plain": [
       "<Figure size 640x480 with 1 Axes>"
      ]
     },
     "metadata": {},
     "output_type": "display_data"
    }
   ],
   "source": [
    "sns.boxplot(df['percent'])"
   ]
  }
 ],
 "metadata": {
  "kernelspec": {
   "display_name": "Python 3 (ipykernel)",
   "language": "python",
   "name": "python3"
  },
  "language_info": {
   "codemirror_mode": {
    "name": "ipython",
    "version": 3
   },
   "file_extension": ".py",
   "mimetype": "text/x-python",
   "name": "python",
   "nbconvert_exporter": "python",
   "pygments_lexer": "ipython3",
   "version": "3.11.5"
  }
 },
 "nbformat": 4,
 "nbformat_minor": 5
}
